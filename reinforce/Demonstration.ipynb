{
 "cells": [
  {
   "cell_type": "code",
   "execution_count": 1,
   "id": "17d012de",
   "metadata": {},
   "outputs": [],
   "source": [
    "from catch.base.Model import Model\n",
    "from catch.base.Environment import standard_action, standard_penalty\n",
    "from catch.CustomMetric import L1Distance"
   ]
  },
  {
   "cell_type": "code",
   "execution_count": 2,
   "id": "af5e1ad6",
   "metadata": {},
   "outputs": [
    {
     "name": "stdout",
     "output_type": "stream",
     "text": [
      "Training finished: 99% |\u001b[40m \u001b[0m\u001b[40m \u001b[0m\u001b[40m \u001b[0m\u001b[40m \u001b[0m\u001b[40m \u001b[0m\u001b[40m \u001b[0m\u001b[40m \u001b[0m\u001b[40m \u001b[0m\u001b[40m \u001b[0m\u001b[40m \u001b[0m\u001b[40m \u001b[0m\u001b[40m \u001b[0m\u001b[40m \u001b[0m\u001b[40m \u001b[0m\u001b[40m \u001b[0m\u001b[40m \u001b[0m\u001b[40m \u001b[0m\u001b[40m \u001b[0m\u001b[40m \u001b[0m\u001b[40m \u001b[0m\u001b[40m \u001b[0m\u001b[40m \u001b[0m\u001b[40m \u001b[0m\u001b[40m \u001b[0m\u001b[40m \u001b[0m\u001b[40m \u001b[0m\u001b[40m \u001b[0m\u001b[40m \u001b[0m\u001b[40m \u001b[0m\u001b[40m \u001b[0m\u001b[40m \u001b[0m\u001b[40m \u001b[0m\u001b[40m \u001b[0m\u001b[40m \u001b[0m\u001b[40m \u001b[0m\u001b[40m \u001b[0m\u001b[40m \u001b[0m\u001b[40m \u001b[0m\u001b[40m \u001b[0m\u001b[40m \u001b[0m\u001b[40m \u001b[0m\u001b[40m \u001b[0m\u001b[40m \u001b[0m\u001b[40m \u001b[0m\u001b[40m \u001b[0m\u001b[40m \u001b[0m\u001b[40m \u001b[0m\u001b[40m \u001b[0m\u001b[40m \u001b[0m\u001b[40m \u001b[0m\u001b[40m \u001b[0m\u001b[40m \u001b[0m\u001b[40m \u001b[0m\u001b[40m \u001b[0m\u001b[40m \u001b[0m\u001b[40m \u001b[0m\u001b[40m \u001b[0m\u001b[40m \u001b[0m\u001b[40m \u001b[0m\u001b[40m \u001b[0m\u001b[40m \u001b[0m\u001b[40m \u001b[0m\u001b[40m \u001b[0m\u001b[40m \u001b[0m\u001b[40m \u001b[0m\u001b[40m \u001b[0m\u001b[40m \u001b[0m\u001b[40m \u001b[0m\u001b[40m \u001b[0m\u001b[40m \u001b[0m\u001b[40m \u001b[0m\u001b[40m \u001b[0m\u001b[40m \u001b[0m\u001b[40m \u001b[0m\u001b[40m \u001b[0m\u001b[40m \u001b[0m\u001b[40m \u001b[0m\u001b[40m \u001b[0m\u001b[40m \u001b[0m\u001b[40m \u001b[0m\u001b[40m \u001b[0m\u001b[40m \u001b[0m\u001b[40m \u001b[0m\u001b[40m \u001b[0m\u001b[40m \u001b[0m\u001b[40m \u001b[0m\u001b[40m \u001b[0m\u001b[40m \u001b[0m\u001b[40m \u001b[0m\u001b[40m \u001b[0m\u001b[40m \u001b[0m\u001b[40m \u001b[0m\u001b[40m \u001b[0m\u001b[40m \u001b[0m\u001b[40m \u001b[0m\u001b[40m \u001b[0m\u001b[40m \u001b[0m\u001b[40m \u001b[0m\u001b[40m \u001b[0m\u001b[39m \u001b[0m|\n",
      "Time taken: 0:01:37.469694\n",
      "No of penalties: 1\n",
      "No of time steps: 4\n"
     ]
    }
   ],
   "source": [
    "clf = Model(env_size=(4, 6), metric_class=L1Distance,\n",
    "            env_args={\"action_dict\": standard_action, \"penalty\": standard_penalty},\n",
    "            metric_args={\"score_at_target\": 10})\n",
    "clf.train(epsilon=0.5, alpha=0.2, gamma=0.1, episodes=20000)\n",
    "all_env_progress, time_step, penalty = clf.predict(clf.env.state)"
   ]
  },
  {
   "cell_type": "code",
   "execution_count": 3,
   "id": "7f8e5f3d",
   "metadata": {
    "scrolled": true
   },
   "outputs": [
    {
     "name": "stdout",
     "output_type": "stream",
     "text": [
      "==========\n",
      "| : : : |\n",
      "| : : : |\n",
      "|\u001b[41m \u001b[0m: : : |\n",
      "| : : : |\n",
      "| : : : |\n",
      "| :\u001b[44m \u001b[0m: : |\n",
      "==========\n",
      "\n",
      "Step: 0\n",
      "==========\n",
      "| : : : |\n",
      "| : : : |\n",
      "|\u001b[41m \u001b[0m: : : |\n",
      "| : : : |\n",
      "| : : : |\n",
      "|\u001b[44m \u001b[0m: : : |\n",
      "==========\n",
      "\n",
      "Step: 1\n",
      "==========\n",
      "| : : : |\n",
      "| : : : |\n",
      "|\u001b[41m \u001b[0m: : : |\n",
      "| : : : |\n",
      "|\u001b[44m \u001b[0m: : : |\n",
      "| : : : |\n",
      "==========\n",
      "\n",
      "Step: 2\n",
      "==========\n",
      "| : : : |\n",
      "| : : : |\n",
      "|\u001b[41m \u001b[0m: : : |\n",
      "|\u001b[44m \u001b[0m: : : |\n",
      "| : : : |\n",
      "| : : : |\n",
      "==========\n",
      "\n",
      "Step: 3\n",
      "==========\n",
      "| : : : |\n",
      "| : : : |\n",
      "|\u001b[42m \u001b[0m: : : |\n",
      "| : : : |\n",
      "| : : : |\n",
      "| : : : |\n",
      "==========\n",
      "\n",
      "Step: 4\n"
     ]
    }
   ],
   "source": [
    "clf.show_process(overlap=False)"
   ]
  },
  {
   "cell_type": "code",
   "execution_count": 6,
   "id": "2b1b1949",
   "metadata": {},
   "outputs": [
    {
     "name": "stdout",
     "output_type": "stream",
     "text": [
      "==========\n",
      "| : : : |\n",
      "| : : : |\n",
      "|\u001b[42m \u001b[0m: : : |\n",
      "| : : : |\n",
      "| : : : |\n",
      "| : : : |\n",
      "==========\n",
      "\n",
      "Step: 4\n"
     ]
    }
   ],
   "source": [
    "clf.show_process()"
   ]
  },
  {
   "cell_type": "code",
   "execution_count": 5,
   "id": "4962c207",
   "metadata": {},
   "outputs": [],
   "source": [
    "clf.save(\"./demo.pkl\", overwrite=True, skip_same_filename=False)"
   ]
  },
  {
   "cell_type": "code",
   "execution_count": 8,
   "id": "d761cbb1",
   "metadata": {},
   "outputs": [
    {
     "name": "stdout",
     "output_type": "stream",
     "text": [
      "==========\n",
      "| : : : |\n",
      "| : : : |\n",
      "|\u001b[42m \u001b[0m: : : |\n",
      "| : : : |\n",
      "| : : : |\n",
      "| : : : |\n",
      "==========\n",
      "\n",
      "Step: 4\n"
     ]
    }
   ],
   "source": [
    "import pickle\n",
    "with open(\"./demo.pkl\", \"rb\") as handle:\n",
    "    clf_load = pickle.load(handle)\n",
    "clf.show_process()"
   ]
  },
  {
   "cell_type": "code",
   "execution_count": null,
   "id": "2e903f22",
   "metadata": {},
   "outputs": [],
   "source": []
  }
 ],
 "metadata": {
  "kernelspec": {
   "display_name": "Python 3 (ipykernel)",
   "language": "python",
   "name": "python3"
  },
  "language_info": {
   "codemirror_mode": {
    "name": "ipython",
    "version": 3
   },
   "file_extension": ".py",
   "mimetype": "text/x-python",
   "name": "python",
   "nbconvert_exporter": "python",
   "pygments_lexer": "ipython3",
   "version": "3.9.8"
  }
 },
 "nbformat": 4,
 "nbformat_minor": 5
}
